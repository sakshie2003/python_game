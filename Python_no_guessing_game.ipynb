{
 "cells": [
  {
   "cell_type": "code",
   "execution_count": null,
   "id": "6d4c240a-7ef9-438b-84c7-b7ea95d7c60a",
   "metadata": {},
   "outputs": [
    {
     "name": "stdout",
     "output_type": "stream",
     "text": [
      "A Number Guessing Game where you have 3 attempts to guess a randomly generated number between 1 and 10\n",
      "WOW You Will Be Given 3 Attempts\n",
      "It is Your 1 attempt\n"
     ]
    }
   ],
   "source": [
    "import numpy as np\n",
    "comp_input=np.random.randint(1,3,1)\n",
    "li=['Try Again','Try Again','you have used all the attempts']\n",
    "print(\"\"\"A Number Guessing Game where you have 3 attempts to guess a randomly generated number between 1 and 10\"\"\")\n",
    "print('WOW You Will Be Given 3 Attempts')\n",
    "\n",
    "count=0\n",
    "for i in range(3):\n",
    "    count=count+1\n",
    "    \n",
    "    print('It is Your',count,'attempt')\n",
    "    user_input=int(input('Enter Any No Between 0 To 5'))\n",
    "    print('Your Input :',user_input)\n",
    "    \n",
    "    \n",
    "    if count==1 and comp_input==user_input:\n",
    "        print('Congratualtions You Won in 1st attempt \\nYou Have Earned 5 Stars')\n",
    "        break\n",
    "        \n",
    "    elif count==2 and comp_input==user_input:\n",
    "        print('Congratulations You Won in 2nd Attempt \\nYou Have Earned 3 Stars')\n",
    "        break\n",
    "    elif count==3 and comp_input==user_input:\n",
    "        print('Congratulations You Won in 3rd Attempt\\nYou Have Earned 2 Stars')\n",
    "        break\n",
    "    else:\n",
    "        print(li[i])"
   ]
  },
  {
   "cell_type": "code",
   "execution_count": null,
   "id": "50d7df05-2441-4641-bd19-25498c33dbdb",
   "metadata": {},
   "outputs": [],
   "source": []
  }
 ],
 "metadata": {
  "kernelspec": {
   "display_name": "Python 3 (ipykernel)",
   "language": "python",
   "name": "python3"
  },
  "language_info": {
   "codemirror_mode": {
    "name": "ipython",
    "version": 3
   },
   "file_extension": ".py",
   "mimetype": "text/x-python",
   "name": "python",
   "nbconvert_exporter": "python",
   "pygments_lexer": "ipython3",
   "version": "3.12.4"
  }
 },
 "nbformat": 4,
 "nbformat_minor": 5
}
